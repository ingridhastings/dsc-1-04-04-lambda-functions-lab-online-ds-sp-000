{
 "cells": [
  {
   "cell_type": "markdown",
   "metadata": {},
   "source": [
    "# Lambda Functions - Lab"
   ]
  },
  {
   "cell_type": "markdown",
   "metadata": {},
   "source": [
    "## Introduction|\n",
    "\n",
    "In this lab, you'll get some hands on practice creating and using lambda functions."
   ]
  },
  {
   "cell_type": "markdown",
   "metadata": {},
   "source": [
    "## Objectives\n",
    "You will be able to:\n",
    "* Understand what lambda functions are and why they are useful\n",
    "* Use lambda functions to transform data within lists and DataFrames"
   ]
  },
  {
   "cell_type": "markdown",
   "metadata": {},
   "source": [
    "## Lambda Functions"
   ]
  },
  {
   "cell_type": "code",
   "execution_count": 34,
   "metadata": {},
   "outputs": [
    {
     "data": {
      "text/html": [
       "<div>\n",
       "<style scoped>\n",
       "    .dataframe tbody tr th:only-of-type {\n",
       "        vertical-align: middle;\n",
       "    }\n",
       "\n",
       "    .dataframe tbody tr th {\n",
       "        vertical-align: top;\n",
       "    }\n",
       "\n",
       "    .dataframe thead th {\n",
       "        text-align: right;\n",
       "    }\n",
       "</style>\n",
       "<table border=\"1\" class=\"dataframe\">\n",
       "  <thead>\n",
       "    <tr style=\"text-align: right;\">\n",
       "      <th></th>\n",
       "      <th>Unnamed: 0</th>\n",
       "      <th>business_id</th>\n",
       "      <th>cool</th>\n",
       "      <th>date</th>\n",
       "      <th>funny</th>\n",
       "      <th>review_id</th>\n",
       "      <th>stars</th>\n",
       "      <th>text</th>\n",
       "      <th>useful</th>\n",
       "      <th>user_id</th>\n",
       "    </tr>\n",
       "  </thead>\n",
       "  <tbody>\n",
       "    <tr>\n",
       "      <th>0</th>\n",
       "      <td>1</td>\n",
       "      <td>pomGBqfbxcqPv14c3XH-ZQ</td>\n",
       "      <td>0</td>\n",
       "      <td>2012-11-13</td>\n",
       "      <td>0</td>\n",
       "      <td>dDl8zu1vWPdKGihJrwQbpw</td>\n",
       "      <td>5</td>\n",
       "      <td>I love this place! My fiance And I go here atl...</td>\n",
       "      <td>0</td>\n",
       "      <td>msQe1u7Z_XuqjGoqhB0J5g</td>\n",
       "    </tr>\n",
       "    <tr>\n",
       "      <th>1</th>\n",
       "      <td>2</td>\n",
       "      <td>jtQARsP6P-LbkyjbO1qNGg</td>\n",
       "      <td>1</td>\n",
       "      <td>2014-10-23</td>\n",
       "      <td>1</td>\n",
       "      <td>LZp4UX5zK3e-c5ZGSeo3kA</td>\n",
       "      <td>1</td>\n",
       "      <td>Terrible. Dry corn bread. Rib tips were all fa...</td>\n",
       "      <td>3</td>\n",
       "      <td>msQe1u7Z_XuqjGoqhB0J5g</td>\n",
       "    </tr>\n",
       "  </tbody>\n",
       "</table>\n",
       "</div>"
      ],
      "text/plain": [
       "   Unnamed: 0             business_id  cool        date  funny  \\\n",
       "0           1  pomGBqfbxcqPv14c3XH-ZQ     0  2012-11-13      0   \n",
       "1           2  jtQARsP6P-LbkyjbO1qNGg     1  2014-10-23      1   \n",
       "\n",
       "                review_id  stars  \\\n",
       "0  dDl8zu1vWPdKGihJrwQbpw      5   \n",
       "1  LZp4UX5zK3e-c5ZGSeo3kA      1   \n",
       "\n",
       "                                                text  useful  \\\n",
       "0  I love this place! My fiance And I go here atl...       0   \n",
       "1  Terrible. Dry corn bread. Rib tips were all fa...       3   \n",
       "\n",
       "                  user_id  \n",
       "0  msQe1u7Z_XuqjGoqhB0J5g  \n",
       "1  msQe1u7Z_XuqjGoqhB0J5g  "
      ]
     },
     "execution_count": 34,
     "metadata": {},
     "output_type": "execute_result"
    }
   ],
   "source": [
    "import pandas as pd\n",
    "df = pd.read_csv('Yelp_Reviews.csv')\n",
    "df.head(2)"
   ]
  },
  {
   "cell_type": "markdown",
   "metadata": {},
   "source": [
    "# Simple Arithmetic\n",
    "\n",
    "Use a lambda function to create a new column called 'stars_squared' by squarring the stars column."
   ]
  },
  {
   "cell_type": "code",
   "execution_count": 35,
   "metadata": {},
   "outputs": [
    {
     "data": {
      "text/plain": [
       "0       25\n",
       "1        1\n",
       "2       25\n",
       "3        1\n",
       "4       25\n",
       "5        1\n",
       "6       25\n",
       "7       25\n",
       "8        1\n",
       "9        1\n",
       "10      25\n",
       "11      25\n",
       "12      16\n",
       "13      25\n",
       "14      25\n",
       "15       4\n",
       "16      25\n",
       "17       1\n",
       "18      25\n",
       "19      25\n",
       "20      16\n",
       "21       1\n",
       "22      16\n",
       "23      25\n",
       "24      16\n",
       "25       1\n",
       "26       1\n",
       "27      16\n",
       "28      16\n",
       "29      16\n",
       "        ..\n",
       "2580    16\n",
       "2581    25\n",
       "2582    16\n",
       "2583     1\n",
       "2584    25\n",
       "2585    16\n",
       "2586    25\n",
       "2587     4\n",
       "2588    25\n",
       "2589    25\n",
       "2590    16\n",
       "2591    25\n",
       "2592     4\n",
       "2593    25\n",
       "2594     9\n",
       "2595    16\n",
       "2596     4\n",
       "2597     1\n",
       "2598    16\n",
       "2599     1\n",
       "2600    25\n",
       "2601     4\n",
       "2602    25\n",
       "2603    16\n",
       "2604     1\n",
       "2605    25\n",
       "2606    25\n",
       "2607    25\n",
       "2608     4\n",
       "2609     1\n",
       "Name: stars, Length: 2610, dtype: int64"
      ]
     },
     "execution_count": 35,
     "metadata": {},
     "output_type": "execute_result"
    }
   ],
   "source": [
    "stars_squared = df['stars']**2\n",
    "#df['stars']\n",
    "stars_squared"
   ]
  },
  {
   "cell_type": "markdown",
   "metadata": {},
   "source": [
    "# Dates\n",
    "Select the month from the date string using a lambda function."
   ]
  },
  {
   "cell_type": "code",
   "execution_count": 36,
   "metadata": {},
   "outputs": [
    {
     "data": {
      "text/plain": [
       "0       2012\n",
       "1       2014\n",
       "2       2014\n",
       "3       2011\n",
       "4       2016\n",
       "5       2016\n",
       "6       2014\n",
       "7       2017\n",
       "8       2017\n",
       "9       2017\n",
       "10      2015\n",
       "11      2012\n",
       "12      2012\n",
       "13      2012\n",
       "14      2012\n",
       "15      2014\n",
       "16      2016\n",
       "17      2015\n",
       "18      2015\n",
       "19      2017\n",
       "20      2016\n",
       "21      2016\n",
       "22      2016\n",
       "23      2012\n",
       "24      2017\n",
       "25      2017\n",
       "26      2010\n",
       "27      2016\n",
       "28      2016\n",
       "29      2016\n",
       "        ... \n",
       "2580    2015\n",
       "2581    2013\n",
       "2582    2016\n",
       "2583    2015\n",
       "2584    2017\n",
       "2585    2015\n",
       "2586    2015\n",
       "2587    2012\n",
       "2588    2015\n",
       "2589    2015\n",
       "2590    2007\n",
       "2591    2016\n",
       "2592    2015\n",
       "2593    2013\n",
       "2594    2011\n",
       "2595    2014\n",
       "2596    2014\n",
       "2597    2016\n",
       "2598    2011\n",
       "2599    2014\n",
       "2600    2012\n",
       "2601    2014\n",
       "2602    2012\n",
       "2603    2013\n",
       "2604    2013\n",
       "2605    2013\n",
       "2606    2016\n",
       "2607    2016\n",
       "2608    2013\n",
       "2609    2016\n",
       "Name: date, Length: 2610, dtype: object"
      ]
     },
     "execution_count": 36,
     "metadata": {},
     "output_type": "execute_result"
    }
   ],
   "source": [
    "type(df['date'])\n",
    "df.date.map(lambda x: x[:4])"
   ]
  },
  {
   "cell_type": "markdown",
   "metadata": {},
   "source": [
    "# What is the average number of words for a yelp review?\n",
    "Do this with a single line of code!"
   ]
  },
  {
   "cell_type": "code",
   "execution_count": 37,
   "metadata": {},
   "outputs": [
    {
     "data": {
      "text/plain": [
       "46.4"
      ]
     },
     "execution_count": 37,
     "metadata": {},
     "output_type": "execute_result"
    }
   ],
   "source": [
    "df['text'].map(lambda x: len(x.split())).head().mean()"
   ]
  },
  {
   "cell_type": "markdown",
   "metadata": {},
   "source": [
    "# Create a new column for the number of words in the review."
   ]
  },
  {
   "cell_type": "code",
   "execution_count": 62,
   "metadata": {},
   "outputs": [
    {
     "data": {
      "text/plain": [
       "0        58\n",
       "1        30\n",
       "2        30\n",
       "3        82\n",
       "4        32\n",
       "5        49\n",
       "6        21\n",
       "7        70\n",
       "8       131\n",
       "9       112\n",
       "10       19\n",
       "11       28\n",
       "12       20\n",
       "13       15\n",
       "14       28\n",
       "15       31\n",
       "16       31\n",
       "17       49\n",
       "18       26\n",
       "19       47\n",
       "20       85\n",
       "21      120\n",
       "22       28\n",
       "23       32\n",
       "24       37\n",
       "25      122\n",
       "26       51\n",
       "27       42\n",
       "28       80\n",
       "29       79\n",
       "       ... \n",
       "2580     32\n",
       "2581     19\n",
       "2582     85\n",
       "2583    117\n",
       "2584     72\n",
       "2585     22\n",
       "2586     31\n",
       "2587     48\n",
       "2588     95\n",
       "2589     60\n",
       "2590     89\n",
       "2591     25\n",
       "2592     39\n",
       "2593     22\n",
       "2594     46\n",
       "2595    141\n",
       "2596     24\n",
       "2597    148\n",
       "2598    589\n",
       "2599    122\n",
       "2600     11\n",
       "2601     48\n",
       "2602    133\n",
       "2603     37\n",
       "2604    128\n",
       "2605     61\n",
       "2606     43\n",
       "2607     79\n",
       "2608    185\n",
       "2609     42\n",
       "Name: word_num, Length: 2610, dtype: int64"
      ]
     },
     "execution_count": 62,
     "metadata": {},
     "output_type": "execute_result"
    }
   ],
   "source": [
    "df['word_num'] = df['text'].map(lambda x: len(x.split()))\n",
    "df['word_num']"
   ]
  },
  {
   "cell_type": "markdown",
   "metadata": {},
   "source": [
    "## Rewrite the following as a lamda function. Create a new column 'Review_Length'"
   ]
  },
  {
   "cell_type": "code",
   "execution_count": 73,
   "metadata": {},
   "outputs": [],
   "source": [
    "#def rewrite_as_lambda(value):\n",
    "#    if len(value) < 50:\n",
    "#        return 'Short'\n",
    "#    elif len(value) < 80:\n",
    "#        return 'Medium'\n",
    "#    else:\n",
    "#        return 'Long'\n",
    "#Hint: nest your if, else conditionals\n",
    "\n",
    "df['review_length'] = lambda x: 'Short' if x < 50 else ('Medium' if x < 80 else 'Long')"
   ]
  },
  {
   "cell_type": "code",
   "execution_count": null,
   "metadata": {},
   "outputs": [],
   "source": []
  },
  {
   "cell_type": "markdown",
   "metadata": {},
   "source": [
    "# Level Up: Dates Adavanced!\n",
    "<img src=\"date_format_map.png\" width=500>  \n",
    "\n",
    "Overwrite the date column by reordering the month and day from YYYY-MM-DD to DD-MM-YYYY. Try to do this using a lambda function."
   ]
  },
  {
   "cell_type": "code",
   "execution_count": 64,
   "metadata": {},
   "outputs": [
    {
     "data": {
      "text/plain": [
       "0     13/11/2012\n",
       "1     23/10/2014\n",
       "2     05/09/2014\n",
       "3     25/02/2011\n",
       "4     15/06/2016\n",
       "5     23/09/2016\n",
       "6     23/08/2014\n",
       "7     16/08/2017\n",
       "8     18/11/2017\n",
       "9     18/11/2017\n",
       "10    10/12/2015\n",
       "11    12/02/2012\n",
       "12    12/02/2012\n",
       "13    12/02/2012\n",
       "14    12/02/2012\n",
       "15    03/06/2014\n",
       "16    18/11/2016\n",
       "17    05/11/2015\n",
       "18    05/11/2015\n",
       "19    21/01/2017\n",
       "Name: date, dtype: object"
      ]
     },
     "execution_count": 64,
     "metadata": {},
     "output_type": "execute_result"
    }
   ],
   "source": [
    "type(df['date'][0])\n",
    "df['date'] = pd.to_datetime(df['date'],format='%Y/%m/%d').dt.strftime('%d/%m/%Y')#specify input format '%d-%m-%Y' and output format '%Y-%m-%d' or change output as desired i.e. %d/%m/%Y to give dd/mm/yyyy\n",
    "df['date'].head(20)"
   ]
  },
  {
   "cell_type": "markdown",
   "metadata": {},
   "source": [
    "## Summary\n",
    "\n",
    "Great! Hopefully you're getting the hang of lambda functions now! It's important not to overuse them - it will often make more sense to define a function so that it's reusable elsewhere. But whenever you need to quickly apply some simple processing to a collection of data you have a new technique that will help you to do just that. It'll also be useful if you're reading someone elses code that happens to use lambdas."
   ]
  }
 ],
 "metadata": {
  "kernelspec": {
   "display_name": "Python 3",
   "language": "python",
   "name": "python3"
  },
  "language_info": {
   "codemirror_mode": {
    "name": "ipython",
    "version": 3
   },
   "file_extension": ".py",
   "mimetype": "text/x-python",
   "name": "python",
   "nbconvert_exporter": "python",
   "pygments_lexer": "ipython3",
   "version": "3.7.0"
  }
 },
 "nbformat": 4,
 "nbformat_minor": 2
}
